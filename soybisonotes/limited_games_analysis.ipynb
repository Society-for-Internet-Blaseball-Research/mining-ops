{
 "metadata": {
  "language_info": {
   "codemirror_mode": {
    "name": "ipython",
    "version": 3
   },
   "file_extension": ".py",
   "mimetype": "text/x-python",
   "name": "python",
   "nbconvert_exporter": "python",
   "pygments_lexer": "ipython3",
   "version": "3.8.2-final"
  },
  "orig_nbformat": 2,
  "kernelspec": {
   "name": "python38264bitvenvvenv751272c503cd423fbd02c69128f26fe0",
   "display_name": "Python 3.8.2 64-bit ('venv': venv)"
  }
 },
 "nbformat": 4,
 "nbformat_minor": 2,
 "cells": [
  {
   "cell_type": "code",
   "execution_count": 6,
   "metadata": {},
   "outputs": [],
   "source": [
    "import json\n",
    "import numpy as np\n",
    "import pandas as pd\n",
    "import re"
   ]
  },
  {
   "cell_type": "code",
   "execution_count": 2,
   "metadata": {},
   "outputs": [],
   "source": [
    "data = []\n",
    "with open('season2/blaseball-log-1596003134151-uniq.json', 'r') as f:\n",
    "    for line in f.readlines():\n",
    "        data.append(json.loads(line))"
   ]
  },
  {
   "cell_type": "markdown",
   "metadata": {},
   "source": [
    "Okay, we loaded up iliana's archive, let's figure out what's in there. It's a list of jsons, which are presumably the data for each play. Schedule has the game data which we're looking for right now. Each iteration has ten data blocks, each one describes the game state of a game, remember there's ten of them at any given time."
   ]
  },
  {
   "cell_type": "code",
   "execution_count": 3,
   "metadata": {},
   "outputs": [
    {
     "output_type": "execute_result",
     "data": {
      "text/plain": "dict_keys(['sim', 'season', 'standings', 'schedule', 'tomorrowSchedule', 'postseason'])"
     },
     "metadata": {},
     "execution_count": 3
    }
   ],
   "source": [
    "data[0].keys()"
   ]
  },
  {
   "cell_type": "code",
   "execution_count": 4,
   "metadata": {},
   "outputs": [
    {
     "output_type": "execute_result",
     "data": {
      "text/plain": "['Foul Ball. 1-1',\n 'Top of 5, Hellmouth Sunbeams batting.',\n 'Helga Burton batting for the Lovers.',\n 'Morrow Doyle batting for the Shoe Thieves.',\n 'Spears Taylor hit a ground out to Reese Clark.',\n 'Edric Tosser batting for the Firefighters.',\n 'Top of 6, Canada Moist Talkers batting.',\n 'Ball. 1-0',\n 'Ball. 1-0',\n 'Foul Ball. 0-1']"
     },
     "metadata": {},
     "execution_count": 4
    }
   ],
   "source": [
    "[x['lastUpdate'] for x in data[0]['schedule']]"
   ]
  },
  {
   "cell_type": "markdown",
   "metadata": {},
   "source": [
    "Alright, so `lastUpdate` has all of the play-by-plays. We neeed to figure out who's batting too. Then we just need to write a logging function that in-place records all the data."
   ]
  },
  {
   "cell_type": "code",
   "execution_count": 5,
   "metadata": {},
   "outputs": [],
   "source": [
    "def blaseblog(gamelog, dataframe):\n",
    "    for game in gamelog:\n",
    "        if game['topOfInning']:\n",
    "            battingteam = 'away'\n",
    "            pitchingteam = 'home'\n",
    "        else:\n",
    "            battingteam = 'home'\n",
    "            pitchingteam = 'away'\n",
    "        battername = game[f'{battingteam}BatterName']\n",
    "        pitchername = game[f'{pitchingteam}PitcherName']\n",
    "\n",
    "        update = game['lastUpdate']\n",
    "\n",
    "        if 'hit' in update:\n",
    "            \n",
    "    "
   ]
  },
  {
   "cell_type": "code",
   "execution_count": null,
   "metadata": {},
   "outputs": [],
   "source": []
  }
 ]
}